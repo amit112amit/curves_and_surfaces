{
 "cells": [
  {
   "cell_type": "code",
   "execution_count": null,
   "metadata": {},
   "outputs": [],
   "source": [
    "import ipympl\n",
    "%matplotlib widget\n",
    "import matplotlib.pyplot as plt\n",
    "import numpy as np\n",
    "from scipy.special import comb\n",
    "from scipy.spatial import ConvexHull\n",
    "\n",
    "from itertools import pairwise\n",
    "\n",
    "plt.ioff()\n",
    "plt.style.use('ggplot')\n",
    "plt.rcParams.update({'text.usetex': True})\n",
    "plt.rcParams.update({'font.size': 16})"
   ]
  },
  {
   "attachments": {},
   "cell_type": "markdown",
   "metadata": {},
   "source": [
    "## Bernstein Polynomials"
   ]
  },
  {
   "cell_type": "code",
   "execution_count": null,
   "metadata": {},
   "outputs": [],
   "source": [
    "def B(i, n, t):\n",
    "    \"\"\"\n",
    "    Calculates the Bernstein polynomial B_{i,n}(t). `n` is the degree.\n",
    "    \"\"\"\n",
    "    if i==0 and n==0:\n",
    "        return np.ones_like(t)\n",
    "    elif i < 0 or i > n:\n",
    "        return np.zeros_like(t)\n",
    "    else:\n",
    "        return comb(n, i) * (1 - t)**(n - i) * t**i\n",
    "\n",
    "\n",
    "def plot_all_B_n(n):\n",
    "    \"\"\"\n",
    "    Plot Bernstein polynomials for i=0,1...n for t in [0,1]. `n` is degree.\n",
    "    \"\"\"\n",
    "    t = np.linspace(0, 1, 101)\n",
    "    fig, ax = plt.subplots()\n",
    "    ax.set_xlabel('t')\n",
    "    ax.set_ylabel(r'$B_{i,n}(t)$')\n",
    "    ax.set_aspect('equal')\n",
    "    ax.set_title(r'$B_{{i,n}}(t)$ for $n={0}$'.format(n))\n",
    "    for i in range(n+1):\n",
    "        ax.plot(t, B(i, n, t), label=r'$i={0}$'.format(i))\n",
    "    ax.legend()\n",
    "    fig.set_tight_layout(True)\n",
    "    return fig"
   ]
  },
  {
   "cell_type": "code",
   "execution_count": null,
   "metadata": {},
   "outputs": [],
   "source": [
    "fig1 = plot_all_B_n(3)\n",
    "fig2 = plot_all_B_n(4)\n",
    "#fig1.savefig('B_3_plot.pdf', bbox_inches='tight')\n",
    "#fig2.savefig('B_4_plot.pdf', bbox_inches='tight')"
   ]
  },
  {
   "cell_type": "code",
   "execution_count": null,
   "metadata": {},
   "outputs": [],
   "source": [
    "display(fig1.canvas)"
   ]
  },
  {
   "cell_type": "code",
   "execution_count": null,
   "metadata": {},
   "outputs": [],
   "source": [
    "display(fig2.canvas)"
   ]
  },
  {
   "attachments": {},
   "cell_type": "markdown",
   "metadata": {},
   "source": [
    "## Bezier Curves"
   ]
  },
  {
   "cell_type": "code",
   "execution_count": null,
   "metadata": {},
   "outputs": [],
   "source": [
    "def bezier_curve(P, n, N=101):\n",
    "    \"\"\"\n",
    "    Plot Bezier curve of degree `n` using control points `P`. `P` should be an `ndarray` of\n",
    "    size (3, n+1).\n",
    "    \"\"\"\n",
    "    assert P.shape[1] == (n + 1)\n",
    "    t = np.linspace(0, 1, N)\n",
    "    # B_i_n should have shape (n, N)\n",
    "    B_i_n = np.vstack([B(i, n, t) for i in range(n+1)])\n",
    "    return P @ B_i_n"
   ]
  },
  {
   "cell_type": "code",
   "execution_count": null,
   "metadata": {},
   "outputs": [],
   "source": [
    "def plot_bezier_curve(P, n, N=101, control_poly=False, convex_hull=False,\n",
    "                      title=None):\n",
    "    \"\"\"\n",
    "    Plot the curve optionally with the control polygon and/or the convex hull. \n",
    "    P shoule be of shape (3, n+1) where n is the degree.\n",
    "    \"\"\"\n",
    "    dim = P.shape[0]\n",
    "    if dim != 2:\n",
    "        raise NotImplementedError('Only 2d curves are supported.')\n",
    "\n",
    "    curve = bezier_curve(P, n, N)\n",
    "    coords_list = [curve[i,:] for i in range(dim)]\n",
    "    # Plot the curve\n",
    "    fig1, ax1 = plt.subplots()\n",
    "    ax1.plot(*coords_list, label=r'B\\'{e}zier Curve')\n",
    "    if control_poly:\n",
    "        # Plot the control polygon\n",
    "        poly_verts = [P[i,:] for i in range(dim)]\n",
    "        ax1.plot(*poly_verts, ls='dashed', color='k',\n",
    "                 label='Control Polygon', marker='o')\n",
    "    if convex_hull:\n",
    "        # Plot the convex hull\n",
    "        hull = ConvexHull(P.T)\n",
    "        hull_verts = np.append(hull.vertices, hull.vertices[0])\n",
    "        hull_coords = [P[i, hull_verts] for i in range(dim)]\n",
    "        ax1.plot(*hull_coords, ls='dotted', label='Convex Hull', color='g')\n",
    "    if control_poly or convex_hull:\n",
    "        ax1.legend()\n",
    "    if title:\n",
    "        ax1.set_title(title)\n",
    "\n",
    "    return fig1"
   ]
  },
  {
   "cell_type": "code",
   "execution_count": null,
   "metadata": {},
   "outputs": [],
   "source": [
    "P = np.array([[0, 0], [1, 4], [4, 1], [6, 2]]).T\n",
    "n = P.shape[1] - 1\n",
    "fig3 = plot_bezier_curve(P, n, control_poly=True, title='End-point Properties') \n",
    "#fig3.savefig('End_points.pdf', bbox_inches='tight')"
   ]
  },
  {
   "cell_type": "code",
   "execution_count": null,
   "metadata": {},
   "outputs": [],
   "source": [
    "display(fig3.canvas)"
   ]
  },
  {
   "cell_type": "code",
   "execution_count": null,
   "metadata": {},
   "outputs": [],
   "source": [
    "P = np.array([[2, 1], [1, 6], [3.5, 2], [4.5, 8], [5, 4], [6, 10], [12, 3]]).T\n",
    "n = P.shape[1] - 1\n",
    "fig4 = plot_bezier_curve(P, n, control_poly=True, title='Possible')\n",
    "display(fig4.canvas)"
   ]
  },
  {
   "attachments": {},
   "cell_type": "markdown",
   "metadata": {},
   "source": [
    "## de Casteljau's Algorithm"
   ]
  },
  {
   "cell_type": "code",
   "execution_count": null,
   "metadata": {},
   "outputs": [],
   "source": [
    "P0 = np.array([[5,0], [0,1], [1,10], [10,12], [15,6], [11,0]])\n",
    "n = P0.shape[0] - 1\n",
    "curve = bezier_curve(P0.T, n)\n",
    "t0 = 0.4\n",
    "points = []\n",
    "points.append(P0)\n",
    "for i in range(1, n+1):\n",
    "    temp = np.zeros((n+1-i,2))\n",
    "    prev = points[i-1]\n",
    "    for j, k in pairwise(iter(range(n+2-i))):\n",
    "        temp[j] = (1 - t0)*prev[j] + t0*prev[k]\n",
    "    points.append(temp)"
   ]
  },
  {
   "cell_type": "code",
   "execution_count": null,
   "metadata": {},
   "outputs": [],
   "source": [
    "fig5, ax5 = plt.subplots()\n",
    "ax5.plot(curve[0,:], curve[1,:])\n",
    "ax5.set_aspect('equal')\n",
    "title = ax5.set_title(r\"Iteration 0\")\n",
    "ax5.text(\n",
    "    13, 11.5, r\"$t = {0}$\".format(round(t0,1)), ha=\"center\", va=\"center\", size=16,\n",
    "    bbox=dict(fc='ivory', ec=\"k\", lw=1, alpha=0.5))\n",
    "\n",
    "for i, verts in enumerate(points):\n",
    "    ax5.plot(verts[:,0], verts[:,1], marker='o', ls='--', label=f'Iteration {i}')\n",
    "    #if i==n:\n",
    "    #    ax5.annotate(r\"$P(t={0})$\".format(round(t0,1)),\n",
    "    #                xy=(verts[0,0], verts[0,1]), xycoords='data',\n",
    "    #                xytext=(verts[0,0]+2, verts[0,1]-2), textcoords='data',\n",
    "    #                arrowprops=dict(arrowstyle=\"-|>\",\n",
    "    #                                connectionstyle=\"arc3\",\n",
    "    #                                color='k'),\n",
    "    #                )\n",
    "    #title.set_text(r'Iteration {0}'.format(i))\n",
    "    #fig5.canvas.draw()\n",
    "    #fig5.savefig(f'deCasteljau_{i}.pdf', bbox_inches='tight')\n",
    "\n",
    "title.set_text(r\"de Casteljau's algorithm $t={0}$\".format(round(t0,1)))\n",
    "fig5.canvas.draw()\n",
    "ax5.legend()\n",
    "display(fig5.canvas)"
   ]
  },
  {
   "cell_type": "code",
   "execution_count": null,
   "metadata": {},
   "outputs": [],
   "source": []
  },
  {
   "cell_type": "code",
   "execution_count": null,
   "metadata": {},
   "outputs": [],
   "source": []
  }
 ],
 "metadata": {
  "kernelspec": {
   "display_name": "Python",
   "language": "python",
   "name": "python3"
  },
  "language_info": {
   "codemirror_mode": {
    "name": "ipython",
    "version": 3
   },
   "file_extension": ".py",
   "mimetype": "text/x-python",
   "name": "python",
   "nbconvert_exporter": "python",
   "pygments_lexer": "ipython3",
   "version": "3.11.1"
  },
  "orig_nbformat": 4,
  "vscode": {
   "interpreter": {
    "hash": "09291df5f90e537491677e4e4d5ecd2c8254cfebd13cf0f5aff6579915f06295"
   }
  }
 },
 "nbformat": 4,
 "nbformat_minor": 2
}
